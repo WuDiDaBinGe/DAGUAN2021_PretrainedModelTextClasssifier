{
 "cells": [
  {
   "cell_type": "code",
   "execution_count": 1,
   "metadata": {},
   "outputs": [],
   "source": [
    "import numpy as np\n",
    "import pandas as pd"
   ]
  },
  {
   "cell_type": "code",
   "execution_count": 2,
   "metadata": {},
   "outputs": [],
   "source": [
    "train = pd.read_csv('../dataset/datagrand_2021_train.csv', sep=',')\n",
    "train['text'] = train['text'].map(lambda a: a.replace('，', str(30355 - 1)))\n",
    "train['text'] = train['text'].map(lambda a: a.replace('！', str(30355 - 2)))\n",
    "train['text'] = train['text'].map(lambda a: a.split(\" \"))\n",
    "train['text'] = train['text'].map(lambda a: [int(num) for num in a])\n",
    "train['1-label'] = train['label'].map(lambda a: int(a.split('-')[0]))\n",
    "train['2-label'] = train['label'].map(lambda a: int(a.split('-')[1]))"
   ]
  },
  {
   "cell_type": "code",
   "execution_count": 3,
   "metadata": {},
   "outputs": [
    {
     "data": {
      "text/plain": [
       "35"
      ]
     },
     "execution_count": 3,
     "metadata": {},
     "output_type": "execute_result"
    }
   ],
   "source": [
    "train['label'].nunique()"
   ]
  },
  {
   "cell_type": "code",
   "execution_count": 31,
   "metadata": {},
   "outputs": [],
   "source": [
    "# 统计各类别的样本数\n",
    "c = train.groupby(['label'], as_index=False)['label'].agg({'cnt': 'count'})\n",
    "c.sort_values(\"cnt\", inplace=True)\n",
    "# c.describe()\n",
    "# rel_label = [0]*36\n",
    "# for line in c['label']:\n",
    "#     first,secod = line.split('-')\n",
    "#     rel_label[int(secod)] = int(first)\n",
    "# print(rel_label)"
   ]
  },
  {
   "cell_type": "code",
   "execution_count": 36,
   "metadata": {
    "pycharm": {
     "name": "#%%\n"
    }
   },
   "outputs": [
    {
     "data": {
      "text/html": [
       "<div>\n",
       "<style scoped>\n",
       "    .dataframe tbody tr th:only-of-type {\n",
       "        vertical-align: middle;\n",
       "    }\n",
       "\n",
       "    .dataframe tbody tr th {\n",
       "        vertical-align: top;\n",
       "    }\n",
       "\n",
       "    .dataframe thead th {\n",
       "        text-align: right;\n",
       "    }\n",
       "</style>\n",
       "<table border=\"1\" class=\"dataframe\">\n",
       "  <thead>\n",
       "    <tr style=\"text-align: right;\">\n",
       "      <th></th>\n",
       "      <th>2-label</th>\n",
       "      <th>cnt</th>\n",
       "    </tr>\n",
       "  </thead>\n",
       "  <tbody>\n",
       "    <tr>\n",
       "      <th>4</th>\n",
       "      <td>5</td>\n",
       "      <td>16</td>\n",
       "    </tr>\n",
       "    <tr>\n",
       "      <th>11</th>\n",
       "      <td>12</td>\n",
       "      <td>205</td>\n",
       "    </tr>\n",
       "    <tr>\n",
       "      <th>12</th>\n",
       "      <td>13</td>\n",
       "      <td>185</td>\n",
       "    </tr>\n",
       "    <tr>\n",
       "      <th>15</th>\n",
       "      <td>16</td>\n",
       "      <td>32</td>\n",
       "    </tr>\n",
       "    <tr>\n",
       "      <th>16</th>\n",
       "      <td>17</td>\n",
       "      <td>176</td>\n",
       "    </tr>\n",
       "    <tr>\n",
       "      <th>17</th>\n",
       "      <td>18</td>\n",
       "      <td>20</td>\n",
       "    </tr>\n",
       "    <tr>\n",
       "      <th>18</th>\n",
       "      <td>19</td>\n",
       "      <td>178</td>\n",
       "    </tr>\n",
       "    <tr>\n",
       "      <th>19</th>\n",
       "      <td>20</td>\n",
       "      <td>33</td>\n",
       "    </tr>\n",
       "    <tr>\n",
       "      <th>20</th>\n",
       "      <td>21</td>\n",
       "      <td>134</td>\n",
       "    </tr>\n",
       "    <tr>\n",
       "      <th>22</th>\n",
       "      <td>23</td>\n",
       "      <td>19</td>\n",
       "    </tr>\n",
       "    <tr>\n",
       "      <th>23</th>\n",
       "      <td>24</td>\n",
       "      <td>62</td>\n",
       "    </tr>\n",
       "    <tr>\n",
       "      <th>25</th>\n",
       "      <td>26</td>\n",
       "      <td>18</td>\n",
       "    </tr>\n",
       "    <tr>\n",
       "      <th>26</th>\n",
       "      <td>27</td>\n",
       "      <td>49</td>\n",
       "    </tr>\n",
       "    <tr>\n",
       "      <th>27</th>\n",
       "      <td>28</td>\n",
       "      <td>223</td>\n",
       "    </tr>\n",
       "    <tr>\n",
       "      <th>30</th>\n",
       "      <td>31</td>\n",
       "      <td>156</td>\n",
       "    </tr>\n",
       "    <tr>\n",
       "      <th>31</th>\n",
       "      <td>32</td>\n",
       "      <td>103</td>\n",
       "    </tr>\n",
       "    <tr>\n",
       "      <th>33</th>\n",
       "      <td>34</td>\n",
       "      <td>159</td>\n",
       "    </tr>\n",
       "  </tbody>\n",
       "</table>\n",
       "</div>"
      ],
      "text/plain": [
       "    2-label  cnt\n",
       "4         5   16\n",
       "11       12  205\n",
       "12       13  185\n",
       "15       16   32\n",
       "16       17  176\n",
       "17       18   20\n",
       "18       19  178\n",
       "19       20   33\n",
       "20       21  134\n",
       "22       23   19\n",
       "23       24   62\n",
       "25       26   18\n",
       "26       27   49\n",
       "27       28  223\n",
       "30       31  156\n",
       "31       32  103\n",
       "33       34  159"
      ]
     },
     "execution_count": 36,
     "metadata": {},
     "output_type": "execute_result"
    }
   ],
   "source": [
    "# 统计各类别的样本数\n",
    "c = train.groupby(['2-label'], as_index=False)['2-label'].agg({'cnt': 'count'})\n",
    "c.sort_values('2-label', ascending=True, inplace=True)\n",
    "c.describe()\n",
    "c.loc[c['cnt']<239]"
   ]
  },
  {
   "cell_type": "code",
   "execution_count": 6,
   "metadata": {},
   "outputs": [
    {
     "data": {
      "text/html": [
       "<div>\n",
       "<style scoped>\n",
       "    .dataframe tbody tr th:only-of-type {\n",
       "        vertical-align: middle;\n",
       "    }\n",
       "\n",
       "    .dataframe tbody tr th {\n",
       "        vertical-align: top;\n",
       "    }\n",
       "\n",
       "    .dataframe thead th {\n",
       "        text-align: right;\n",
       "    }\n",
       "</style>\n",
       "<table border=\"1\" class=\"dataframe\">\n",
       "  <thead>\n",
       "    <tr style=\"text-align: right;\">\n",
       "      <th></th>\n",
       "      <th>id</th>\n",
       "      <th>1-label</th>\n",
       "      <th>2-label</th>\n",
       "      <th>len</th>\n",
       "    </tr>\n",
       "  </thead>\n",
       "  <tbody>\n",
       "    <tr>\n",
       "      <th>count</th>\n",
       "      <td>14009.000000</td>\n",
       "      <td>14009.000000</td>\n",
       "      <td>14009.000000</td>\n",
       "      <td>14009.000000</td>\n",
       "    </tr>\n",
       "    <tr>\n",
       "      <th>mean</th>\n",
       "      <td>7004.000000</td>\n",
       "      <td>2.993004</td>\n",
       "      <td>13.753159</td>\n",
       "      <td>44.805197</td>\n",
       "    </tr>\n",
       "    <tr>\n",
       "      <th>std</th>\n",
       "      <td>4044.194296</td>\n",
       "      <td>2.015951</td>\n",
       "      <td>10.990892</td>\n",
       "      <td>16.104233</td>\n",
       "    </tr>\n",
       "    <tr>\n",
       "      <th>min</th>\n",
       "      <td>0.000000</td>\n",
       "      <td>1.000000</td>\n",
       "      <td>1.000000</td>\n",
       "      <td>8.000000</td>\n",
       "    </tr>\n",
       "    <tr>\n",
       "      <th>25%</th>\n",
       "      <td>3502.000000</td>\n",
       "      <td>1.000000</td>\n",
       "      <td>4.000000</td>\n",
       "      <td>35.000000</td>\n",
       "    </tr>\n",
       "    <tr>\n",
       "      <th>50%</th>\n",
       "      <td>7004.000000</td>\n",
       "      <td>2.000000</td>\n",
       "      <td>9.000000</td>\n",
       "      <td>45.000000</td>\n",
       "    </tr>\n",
       "    <tr>\n",
       "      <th>75%</th>\n",
       "      <td>10506.000000</td>\n",
       "      <td>5.000000</td>\n",
       "      <td>25.000000</td>\n",
       "      <td>53.000000</td>\n",
       "    </tr>\n",
       "    <tr>\n",
       "      <th>max</th>\n",
       "      <td>14008.000000</td>\n",
       "      <td>10.000000</td>\n",
       "      <td>35.000000</td>\n",
       "      <td>334.000000</td>\n",
       "    </tr>\n",
       "  </tbody>\n",
       "</table>\n",
       "</div>"
      ],
      "text/plain": [
       "                 id       1-label       2-label           len\n",
       "count  14009.000000  14009.000000  14009.000000  14009.000000\n",
       "mean    7004.000000      2.993004     13.753159     44.805197\n",
       "std     4044.194296      2.015951     10.990892     16.104233\n",
       "min        0.000000      1.000000      1.000000      8.000000\n",
       "25%     3502.000000      1.000000      4.000000     35.000000\n",
       "50%     7004.000000      2.000000      9.000000     45.000000\n",
       "75%    10506.000000      5.000000     25.000000     53.000000\n",
       "max    14008.000000     10.000000     35.000000    334.000000"
      ]
     },
     "execution_count": 6,
     "metadata": {},
     "output_type": "execute_result"
    }
   ],
   "source": [
    "# 统计text的长度信息\n",
    "train['len'] = train['text'].str.len()\n",
    "train.describe()"
   ]
  },
  {
   "cell_type": "code",
   "execution_count": 29,
   "metadata": {
    "scrolled": true
   },
   "outputs": [
    {
     "data": {
      "text/html": [
       "<div>\n",
       "<style scoped>\n",
       "    .dataframe tbody tr th:only-of-type {\n",
       "        vertical-align: middle;\n",
       "    }\n",
       "\n",
       "    .dataframe tbody tr th {\n",
       "        vertical-align: top;\n",
       "    }\n",
       "\n",
       "    .dataframe thead th {\n",
       "        text-align: right;\n",
       "    }\n",
       "</style>\n",
       "<table border=\"1\" class=\"dataframe\">\n",
       "  <thead>\n",
       "    <tr style=\"text-align: right;\">\n",
       "      <th></th>\n",
       "      <th>id</th>\n",
       "      <th>text</th>\n",
       "      <th>label</th>\n",
       "      <th>1-label</th>\n",
       "      <th>2-label</th>\n",
       "      <th>len</th>\n",
       "    </tr>\n",
       "  </thead>\n",
       "  <tbody>\n",
       "    <tr>\n",
       "      <th>6410</th>\n",
       "      <td>6410</td>\n",
       "      <td>[17060, 21114, 4106, 16614, 6180, 648, 8224, 3...</td>\n",
       "      <td>2-17</td>\n",
       "      <td>2</td>\n",
       "      <td>17</td>\n",
       "      <td>15</td>\n",
       "    </tr>\n",
       "    <tr>\n",
       "      <th>12736</th>\n",
       "      <td>12736</td>\n",
       "      <td>[9737, 9283, 25483, 19121, 10647, 8644, 14123,...</td>\n",
       "      <td>10-26</td>\n",
       "      <td>10</td>\n",
       "      <td>26</td>\n",
       "      <td>16</td>\n",
       "    </tr>\n",
       "    <tr>\n",
       "      <th>10630</th>\n",
       "      <td>10630</td>\n",
       "      <td>[21105, 14186, 14684, 3756, 29498, 11259, 1912...</td>\n",
       "      <td>3-5</td>\n",
       "      <td>3</td>\n",
       "      <td>5</td>\n",
       "      <td>17</td>\n",
       "    </tr>\n",
       "    <tr>\n",
       "      <th>12875</th>\n",
       "      <td>12875</td>\n",
       "      <td>[12772, 4198, 30354, 1292, 929, 15439, 2066, 1...</td>\n",
       "      <td>2-17</td>\n",
       "      <td>2</td>\n",
       "      <td>17</td>\n",
       "      <td>18</td>\n",
       "    </tr>\n",
       "    <tr>\n",
       "      <th>4360</th>\n",
       "      <td>4360</td>\n",
       "      <td>[10935, 6832, 22382, 233, 21534, 4198, 25257, ...</td>\n",
       "      <td>8-27</td>\n",
       "      <td>8</td>\n",
       "      <td>27</td>\n",
       "      <td>20</td>\n",
       "    </tr>\n",
       "    <tr>\n",
       "      <th>...</th>\n",
       "      <td>...</td>\n",
       "      <td>...</td>\n",
       "      <td>...</td>\n",
       "      <td>...</td>\n",
       "      <td>...</td>\n",
       "      <td>...</td>\n",
       "    </tr>\n",
       "    <tr>\n",
       "      <th>2426</th>\n",
       "      <td>2426</td>\n",
       "      <td>[233, 2103, 16328, 18371, 1396, 233, 8679, 303...</td>\n",
       "      <td>10-26</td>\n",
       "      <td>10</td>\n",
       "      <td>26</td>\n",
       "      <td>175</td>\n",
       "    </tr>\n",
       "    <tr>\n",
       "      <th>5215</th>\n",
       "      <td>5215</td>\n",
       "      <td>[20788, 13783, 16328, 1845, 21655, 2337, 4054,...</td>\n",
       "      <td>10-26</td>\n",
       "      <td>10</td>\n",
       "      <td>26</td>\n",
       "      <td>184</td>\n",
       "    </tr>\n",
       "    <tr>\n",
       "      <th>5433</th>\n",
       "      <td>5433</td>\n",
       "      <td>[2797, 7386, 18239, 26669, 12567, 17281, 2970,...</td>\n",
       "      <td>2-17</td>\n",
       "      <td>2</td>\n",
       "      <td>17</td>\n",
       "      <td>191</td>\n",
       "    </tr>\n",
       "    <tr>\n",
       "      <th>13631</th>\n",
       "      <td>13631</td>\n",
       "      <td>[3110, 6285, 8, 29498, 19910, 23452, 23743, 82...</td>\n",
       "      <td>8-27</td>\n",
       "      <td>8</td>\n",
       "      <td>27</td>\n",
       "      <td>195</td>\n",
       "    </tr>\n",
       "    <tr>\n",
       "      <th>2694</th>\n",
       "      <td>2694</td>\n",
       "      <td>[7442, 27700, 25585, 13355, 7923, 11255, 30354...</td>\n",
       "      <td>9-23</td>\n",
       "      <td>9</td>\n",
       "      <td>23</td>\n",
       "      <td>225</td>\n",
       "    </tr>\n",
       "  </tbody>\n",
       "</table>\n",
       "<p>278 rows × 6 columns</p>\n",
       "</div>"
      ],
      "text/plain": [
       "          id                                               text  label  \\\n",
       "6410    6410  [17060, 21114, 4106, 16614, 6180, 648, 8224, 3...   2-17   \n",
       "12736  12736  [9737, 9283, 25483, 19121, 10647, 8644, 14123,...  10-26   \n",
       "10630  10630  [21105, 14186, 14684, 3756, 29498, 11259, 1912...    3-5   \n",
       "12875  12875  [12772, 4198, 30354, 1292, 929, 15439, 2066, 1...   2-17   \n",
       "4360    4360  [10935, 6832, 22382, 233, 21534, 4198, 25257, ...   8-27   \n",
       "...      ...                                                ...    ...   \n",
       "2426    2426  [233, 2103, 16328, 18371, 1396, 233, 8679, 303...  10-26   \n",
       "5215    5215  [20788, 13783, 16328, 1845, 21655, 2337, 4054,...  10-26   \n",
       "5433    5433  [2797, 7386, 18239, 26669, 12567, 17281, 2970,...   2-17   \n",
       "13631  13631  [3110, 6285, 8, 29498, 19910, 23452, 23743, 82...   8-27   \n",
       "2694    2694  [7442, 27700, 25585, 13355, 7923, 11255, 30354...   9-23   \n",
       "\n",
       "       1-label  2-label  len  \n",
       "6410         2       17   15  \n",
       "12736       10       26   16  \n",
       "10630        3        5   17  \n",
       "12875        2       17   18  \n",
       "4360         8       27   20  \n",
       "...        ...      ...  ...  \n",
       "2426        10       26  175  \n",
       "5215        10       26  184  \n",
       "5433         2       17  191  \n",
       "13631        8       27  195  \n",
       "2694         9       23  225  \n",
       "\n",
       "[278 rows x 6 columns]"
      ]
     },
     "execution_count": 29,
     "metadata": {},
     "output_type": "execute_result"
    }
   ],
   "source": [
    "# 计算前90%的数据长度\n",
    "c = train\n",
    "c.sort_values('len', ascending=True, inplace=True)\n",
    "c[13809:14009].loc()\n",
    "train.loc[train['2-label'].isin([5,17,26,23,27])]"
   ]
  },
  {
   "cell_type": "code",
   "execution_count": 8,
   "metadata": {},
   "outputs": [
    {
     "name": "stdout",
     "output_type": "stream",
     "text": [
      "30354 8 334\n"
     ]
    }
   ],
   "source": [
    "#使用正则匹配\n",
    "import re\n",
    "\n",
    "m = re.findall('\\d+', ',')\n",
    "max_vob = 0\n",
    "min_vob = 9999\n",
    "max_length = 0\n",
    "for text in train['text']:\n",
    "    max_length = max(max_length, len(text))\n",
    "    max_vob = max(max_vob, max(text))\n",
    "    min_vob = min(min_vob, min(text))\n",
    "print(max_vob, min_vob, max_length)"
   ]
  },
  {
   "cell_type": "code",
   "execution_count": 9,
   "metadata": {},
   "outputs": [],
   "source": [
    "test = pd.read_csv('../dataset/datagrand_2021_test.csv', sep=',')\n",
    "test['text'] = test['text'].map(lambda a: a.replace('，', str(30355 - 1)))\n",
    "test['text'] = test['text'].map(lambda a: a.replace('！', str(30355 - 2)))\n",
    "test['text'] = test['text'].map(lambda a: a.split(\" \"))\n",
    "test['text'] = test['text'].map(lambda a: [int(num) for num in a])"
   ]
  },
  {
   "cell_type": "code",
   "execution_count": 11,
   "metadata": {},
   "outputs": [
    {
     "name": "stderr",
     "output_type": "stream",
     "text": [
      "/home/yxb/anaconda3/envs/nlp/lib/python3.7/site-packages/gensim/similarities/__init__.py:15: UserWarning: The gensim.similarities.levenshtein submodule is disabled, because the optional Levenshtein package <https://pypi.org/project/python-Levenshtein/> is unavailable. Install Levenhstein (e.g. `pip install python-Levenshtein`) to suppress this warning.\n",
      "  warnings.warn(msg)\n"
     ]
    }
   ],
   "source": [
    "# 训练Word Embedding\n",
    "# skip-gram 对低频词有更好的训练效果\n",
    "from gensim.models import Word2Vec\n",
    "import torch\n",
    "\n",
    "sent1 = [row for row in train['text']]\n",
    "sent2 = [row for row in test['text']]\n",
    "word2vec = Word2Vec(sent1 + sent2, min_count=0, vector_size=300, workers=3, window=5, sg=1, epochs=1000)\n",
    "word2vec.save('word2vec.model')"
   ]
  },
  {
   "cell_type": "code",
   "execution_count": 16,
   "metadata": {},
   "outputs": [
    {
     "data": {
      "text/plain": [
       "[(2281, 0.42141976952552795),\n",
       " (17281, 0.3925333619117737),\n",
       " (13535, 0.3719053566455841),\n",
       " (29498, 0.3575664162635803),\n",
       " (929, 0.32917866110801697),\n",
       " (28874, 0.32910993695259094),\n",
       " (979, 0.31846386194229126),\n",
       " (14547, 0.3110749423503876),\n",
       " (25483, 0.3049441874027252),\n",
       " (26336, 0.28959640860557556)]"
      ]
     },
     "execution_count": 16,
     "metadata": {},
     "output_type": "execute_result"
    }
   ],
   "source": [
    "# 训练Word Embedding\n",
    "# skip-gram 对低频词有更好的训练效果\n",
    "model = Word2Vec.load('word2vec.model')\n",
    "model.wv.most_similar(30354, topn=10)"
   ]
  },
  {
   "cell_type": "code",
   "execution_count": 89,
   "metadata": {},
   "outputs": [
    {
     "name": "stdout",
     "output_type": "stream",
     "text": [
      "torch.Size([3455, 300])\n"
     ]
    },
    {
     "data": {
      "text/plain": [
       "tensor([[ 0.0000,  0.0000,  0.0000,  ...,  0.0000,  0.0000,  0.0000],\n",
       "        [ 0.0750,  0.1899,  0.1656,  ...,  0.1708,  0.0143, -0.0527],\n",
       "        [ 0.0018,  0.1793, -0.0720,  ..., -0.2750,  0.0836,  0.0457],\n",
       "        ...,\n",
       "        [ 0.0006,  0.0835,  0.0598,  ..., -0.0834,  0.0440,  0.0233],\n",
       "        [-0.0281,  0.0595,  0.0540,  ..., -0.0322,  0.0387, -0.0218],\n",
       "        [ 0.0507,  0.1106, -0.0527,  ..., -0.0159, -0.0158,  0.0163]])"
      ]
     },
     "execution_count": 89,
     "metadata": {},
     "output_type": "execute_result"
    }
   ],
   "source": [
    "pred_wordEmbedding = torch.tensor(model.wv.vectors)\n",
    "print(pred_wordEmbedding.shape)\n",
    "pred_wordEmbedding = torch.cat((torch.zeros(1, 300), pred_wordEmbedding), dim=0)\n",
    "pred_wordEmbedding"
   ]
  },
  {
   "cell_type": "code",
   "execution_count": 56,
   "metadata": {},
   "outputs": [
    {
     "ename": "AttributeError",
     "evalue": "'list' object has no attribute 'split'",
     "output_type": "error",
     "traceback": [
      "\u001b[0;31m---------------------------------------------------------------------------\u001b[0m",
      "\u001b[0;31mAttributeError\u001b[0m                            Traceback (most recent call last)",
      "\u001b[0;32m/tmp/ipykernel_1852937/795200512.py\u001b[0m in \u001b[0;36m<module>\u001b[0;34m\u001b[0m\n\u001b[1;32m      5\u001b[0m \u001b[0mmax_length\u001b[0m\u001b[0;34m=\u001b[0m\u001b[0;36m0\u001b[0m\u001b[0;34m\u001b[0m\u001b[0;34m\u001b[0m\u001b[0m\n\u001b[1;32m      6\u001b[0m \u001b[0;32mfor\u001b[0m \u001b[0mtext\u001b[0m \u001b[0;32min\u001b[0m \u001b[0mtest\u001b[0m\u001b[0;34m[\u001b[0m\u001b[0;34m'text'\u001b[0m\u001b[0;34m]\u001b[0m\u001b[0;34m:\u001b[0m\u001b[0;34m\u001b[0m\u001b[0;34m\u001b[0m\u001b[0m\n\u001b[0;32m----> 7\u001b[0;31m     \u001b[0mvobs\u001b[0m \u001b[0;34m=\u001b[0m \u001b[0mtext\u001b[0m\u001b[0;34m.\u001b[0m\u001b[0msplit\u001b[0m\u001b[0;34m(\u001b[0m\u001b[0;34m' '\u001b[0m\u001b[0;34m)\u001b[0m\u001b[0;34m\u001b[0m\u001b[0;34m\u001b[0m\u001b[0m\n\u001b[0m\u001b[1;32m      8\u001b[0m     \u001b[0mmax_length\u001b[0m\u001b[0;34m=\u001b[0m\u001b[0mmax\u001b[0m\u001b[0;34m(\u001b[0m\u001b[0mmax_length\u001b[0m\u001b[0;34m,\u001b[0m\u001b[0mlen\u001b[0m\u001b[0;34m(\u001b[0m\u001b[0mvobs\u001b[0m\u001b[0;34m)\u001b[0m\u001b[0;34m)\u001b[0m\u001b[0;34m\u001b[0m\u001b[0;34m\u001b[0m\u001b[0m\n\u001b[1;32m      9\u001b[0m     \u001b[0mvobs\u001b[0m  \u001b[0;34m=\u001b[0m \u001b[0;34m[\u001b[0m\u001b[0mint\u001b[0m\u001b[0;34m(\u001b[0m\u001b[0mvob\u001b[0m\u001b[0;34m)\u001b[0m \u001b[0;32mfor\u001b[0m \u001b[0mvob\u001b[0m \u001b[0;32min\u001b[0m \u001b[0mvobs\u001b[0m \u001b[0;32mif\u001b[0m \u001b[0mlen\u001b[0m\u001b[0;34m(\u001b[0m\u001b[0mre\u001b[0m\u001b[0;34m.\u001b[0m\u001b[0mfindall\u001b[0m\u001b[0;34m(\u001b[0m\u001b[0;34m'\\d+'\u001b[0m\u001b[0;34m,\u001b[0m \u001b[0mvob\u001b[0m\u001b[0;34m)\u001b[0m\u001b[0;34m)\u001b[0m\u001b[0;34m>\u001b[0m\u001b[0;36m0\u001b[0m\u001b[0;34m]\u001b[0m\u001b[0;34m\u001b[0m\u001b[0;34m\u001b[0m\u001b[0m\n",
      "\u001b[0;31mAttributeError\u001b[0m: 'list' object has no attribute 'split'"
     ]
    }
   ],
   "source": [
    "import re\n",
    "\n",
    "m = re.findall('\\d+', ',')\n",
    "max_vob = 0\n",
    "min_vob = 9999\n",
    "max_length = 0\n",
    "for text in test['text']:\n",
    "    vobs = text.split(' ')\n",
    "    max_length = max(max_length, len(vobs))\n",
    "    vobs = [int(vob) for vob in vobs if len(re.findall('\\d+', vob)) > 0]\n",
    "    max_vob = max(max_vob, max(vobs))\n",
    "    min_vob = min(min_vob, min(vobs))\n",
    "print(max_vob, min_vob, max_length)"
   ]
  },
  {
   "cell_type": "code",
   "execution_count": 9,
   "metadata": {},
   "outputs": [
    {
     "data": {
      "text/plain": [
       "torch.return_types.max(\n",
       "values=tensor([0.1448, 0.9003, 0.6007, 1.3291]),\n",
       "indices=tensor([4, 1, 3, 0]))"
      ]
     },
     "execution_count": 9,
     "metadata": {},
     "output_type": "execute_result"
    }
   ],
   "source": [
    "import torch\n",
    "\n",
    "a = torch.randn((4, 5))\n",
    "torch.max(a, 1)"
   ]
  },
  {
   "cell_type": "code",
   "execution_count": 10,
   "metadata": {},
   "outputs": [
    {
     "data": {
      "text/plain": [
       "'2-6'"
      ]
     },
     "execution_count": 10,
     "metadata": {},
     "output_type": "execute_result"
    }
   ],
   "source": [
    "submit = pd.read_csv('../dataset/sample_submission.csv', sep=',')\n",
    "submit['label'][0]\n",
    "mysubmit = pd.read_csv('../dataset/submit.csv', sep=',')\n",
    "mysubmit['label'][0]"
   ]
  },
  {
   "cell_type": "code",
   "execution_count": 11,
   "metadata": {},
   "outputs": [
    {
     "data": {
      "text/html": [
       "<div>\n",
       "<style scoped>\n",
       "    .dataframe tbody tr th:only-of-type {\n",
       "        vertical-align: middle;\n",
       "    }\n",
       "\n",
       "    .dataframe tbody tr th {\n",
       "        vertical-align: top;\n",
       "    }\n",
       "\n",
       "    .dataframe thead th {\n",
       "        text-align: right;\n",
       "    }\n",
       "</style>\n",
       "<table border=\"1\" class=\"dataframe\">\n",
       "  <thead>\n",
       "    <tr style=\"text-align: right;\">\n",
       "      <th></th>\n",
       "      <th>label</th>\n",
       "      <th>cnt</th>\n",
       "    </tr>\n",
       "  </thead>\n",
       "  <tbody>\n",
       "    <tr>\n",
       "      <th>0</th>\n",
       "      <td>1-1</td>\n",
       "      <td>451</td>\n",
       "    </tr>\n",
       "    <tr>\n",
       "      <th>1</th>\n",
       "      <td>1-10</td>\n",
       "      <td>304</td>\n",
       "    </tr>\n",
       "    <tr>\n",
       "      <th>2</th>\n",
       "      <td>1-4</td>\n",
       "      <td>392</td>\n",
       "    </tr>\n",
       "    <tr>\n",
       "      <th>3</th>\n",
       "      <td>1-9</td>\n",
       "      <td>1013</td>\n",
       "    </tr>\n",
       "    <tr>\n",
       "      <th>4</th>\n",
       "      <td>2-11</td>\n",
       "      <td>33</td>\n",
       "    </tr>\n",
       "    <tr>\n",
       "      <th>5</th>\n",
       "      <td>2-14</td>\n",
       "      <td>65</td>\n",
       "    </tr>\n",
       "    <tr>\n",
       "      <th>6</th>\n",
       "      <td>2-2</td>\n",
       "      <td>401</td>\n",
       "    </tr>\n",
       "    <tr>\n",
       "      <th>7</th>\n",
       "      <td>2-25</td>\n",
       "      <td>113</td>\n",
       "    </tr>\n",
       "    <tr>\n",
       "      <th>8</th>\n",
       "      <td>2-3</td>\n",
       "      <td>448</td>\n",
       "    </tr>\n",
       "    <tr>\n",
       "      <th>9</th>\n",
       "      <td>2-33</td>\n",
       "      <td>282</td>\n",
       "    </tr>\n",
       "    <tr>\n",
       "      <th>10</th>\n",
       "      <td>2-6</td>\n",
       "      <td>379</td>\n",
       "    </tr>\n",
       "    <tr>\n",
       "      <th>11</th>\n",
       "      <td>4-7</td>\n",
       "      <td>313</td>\n",
       "    </tr>\n",
       "    <tr>\n",
       "      <th>12</th>\n",
       "      <td>5-12</td>\n",
       "      <td>106</td>\n",
       "    </tr>\n",
       "    <tr>\n",
       "      <th>13</th>\n",
       "      <td>5-22</td>\n",
       "      <td>12</td>\n",
       "    </tr>\n",
       "    <tr>\n",
       "      <th>14</th>\n",
       "      <td>5-30</td>\n",
       "      <td>612</td>\n",
       "    </tr>\n",
       "    <tr>\n",
       "      <th>15</th>\n",
       "      <td>5-35</td>\n",
       "      <td>146</td>\n",
       "    </tr>\n",
       "    <tr>\n",
       "      <th>16</th>\n",
       "      <td>6-13</td>\n",
       "      <td>102</td>\n",
       "    </tr>\n",
       "    <tr>\n",
       "      <th>17</th>\n",
       "      <td>6-15</td>\n",
       "      <td>233</td>\n",
       "    </tr>\n",
       "    <tr>\n",
       "      <th>18</th>\n",
       "      <td>6-19</td>\n",
       "      <td>86</td>\n",
       "    </tr>\n",
       "    <tr>\n",
       "      <th>19</th>\n",
       "      <td>6-21</td>\n",
       "      <td>43</td>\n",
       "    </tr>\n",
       "    <tr>\n",
       "      <th>20</th>\n",
       "      <td>6-28</td>\n",
       "      <td>93</td>\n",
       "    </tr>\n",
       "    <tr>\n",
       "      <th>21</th>\n",
       "      <td>6-29</td>\n",
       "      <td>117</td>\n",
       "    </tr>\n",
       "    <tr>\n",
       "      <th>22</th>\n",
       "      <td>6-31</td>\n",
       "      <td>49</td>\n",
       "    </tr>\n",
       "    <tr>\n",
       "      <th>23</th>\n",
       "      <td>6-32</td>\n",
       "      <td>54</td>\n",
       "    </tr>\n",
       "    <tr>\n",
       "      <th>24</th>\n",
       "      <td>6-34</td>\n",
       "      <td>52</td>\n",
       "    </tr>\n",
       "    <tr>\n",
       "      <th>25</th>\n",
       "      <td>6-8</td>\n",
       "      <td>105</td>\n",
       "    </tr>\n",
       "  </tbody>\n",
       "</table>\n",
       "</div>"
      ],
      "text/plain": [
       "   label   cnt\n",
       "0    1-1   451\n",
       "1   1-10   304\n",
       "2    1-4   392\n",
       "3    1-9  1013\n",
       "4   2-11    33\n",
       "5   2-14    65\n",
       "6    2-2   401\n",
       "7   2-25   113\n",
       "8    2-3   448\n",
       "9   2-33   282\n",
       "10   2-6   379\n",
       "11   4-7   313\n",
       "12  5-12   106\n",
       "13  5-22    12\n",
       "14  5-30   612\n",
       "15  5-35   146\n",
       "16  6-13   102\n",
       "17  6-15   233\n",
       "18  6-19    86\n",
       "19  6-21    43\n",
       "20  6-28    93\n",
       "21  6-29   117\n",
       "22  6-31    49\n",
       "23  6-32    54\n",
       "24  6-34    52\n",
       "25   6-8   105"
      ]
     },
     "execution_count": 11,
     "metadata": {},
     "output_type": "execute_result"
    }
   ],
   "source": [
    "d = mysubmit.groupby(['label'], as_index=False)['label'].agg({'cnt': 'count'})\n",
    "d.sort_values(\"label\", inplace=True)\n",
    "d"
   ]
  },
  {
   "cell_type": "code",
   "execution_count": 12,
   "metadata": {},
   "outputs": [
    {
     "data": {
      "text/plain": [
       "{'input_ids': tensor([[  101, 11098,  8456, 10065, 27616,  1955, 29289, 28548, 10410, 27431,\n",
       "          9865,   118, 27431, 14983, 29841,   597, 22301, 10559,  2727,  1543,\n",
       "           118, 25075,  6637, 26779, 12677, 17391,  1616,  1089, 13645, 27431,\n",
       "          8456,   102]]), 'token_type_ids': tensor([[0, 0, 0, 0, 0, 0, 0, 0, 0, 0, 0, 0, 0, 0, 0, 0, 0, 0, 0, 0, 0, 0, 0, 0,\n",
       "         0, 0, 0, 0, 0, 0, 0, 0]]), 'attention_mask': tensor([[1, 1, 1, 1, 1, 1, 1, 1, 1, 1, 1, 1, 1, 1, 1, 1, 1, 1, 1, 1, 1, 1, 1, 1,\n",
       "         1, 1, 1, 1, 1, 1, 1, 1]]), 'labels': tensor([[  101, 11098,  8456, 10065, 27616,  1955, 29289, 28548, 10410, 27431,\n",
       "          9865,   118, 27431, 14983, 29841,   597, 22301, 10559,  2727,  1543,\n",
       "           118, 25075,  6637, 26779, 12677, 17391,  1616,  1089, 13645, 27431,\n",
       "          8456,   102]])}"
      ]
     },
     "execution_count": 12,
     "metadata": {},
     "output_type": "execute_result"
    }
   ],
   "source": [
    "from transformers import BertTokenizer\n",
    "import torch\n",
    "\n",
    "tokenizer = BertTokenizer(vocab_file='../dataset/vocab.txt')\n",
    "inputs = tokenizer(\n",
    "    \"10988 8346 9955 27506 1845 29179 28438 10300 27321 9755 ， 27321 14873 29731 487 22191 10449 2617 1433 ， 24965 6527 26669 12567 17281 1506 979 13535 27321 8346\",\n",
    "    truncation=True, return_tensors='pt', max_length=512)\n",
    "inputs['labels'] = inputs.input_ids.detach().clone()\n",
    "inputs"
   ]
  },
  {
   "cell_type": "code",
   "execution_count": 13,
   "metadata": {},
   "outputs": [
    {
     "data": {
      "text/plain": [
       "tensor([[False, False, False, False, False,  True, False, False, False, False,\n",
       "         False, False, False, False, False, False, False, False, False, False,\n",
       "          True, False, False, False, False, False, False, False, False, False,\n",
       "         False, False]])"
      ]
     },
     "execution_count": 13,
     "metadata": {},
     "output_type": "execute_result"
    }
   ],
   "source": [
    "rand = torch.rand(inputs.input_ids.shape)\n",
    "mask_arr = rand < 0.15\n",
    "mask_arr"
   ]
  },
  {
   "cell_type": "code",
   "execution_count": 14,
   "metadata": {},
   "outputs": [
    {
     "data": {
      "text/plain": [
       "tensor([[False, False, False, False, False,  True, False, False, False, False,\n",
       "         False, False, False, False, False, False, False, False, False, False,\n",
       "          True, False, False, False, False, False, False, False, False, False,\n",
       "         False, False]])"
      ]
     },
     "execution_count": 14,
     "metadata": {},
     "output_type": "execute_result"
    }
   ],
   "source": [
    "# 不mask cls 和 seq\n",
    "mask_arr = (rand < 0.15) * (inputs.input_ids != 101) * (inputs.input_ids != 102)\n",
    "mask_arr"
   ]
  },
  {
   "cell_type": "code",
   "execution_count": 15,
   "metadata": {},
   "outputs": [
    {
     "name": "stderr",
     "output_type": "stream",
     "text": [
      "/home/yxb/anaconda3/envs/nlp/lib/python3.7/site-packages/ipykernel_launcher.py:1: UserWarning: This overload of nonzero is deprecated:\n",
      "\tnonzero()\n",
      "Consider using one of the following signatures instead:\n",
      "\tnonzero(*, bool as_tuple) (Triggered internally at  /opt/conda/conda-bld/pytorch_1607370141920/work/torch/csrc/utils/python_arg_parser.cpp:882.)\n",
      "  \"\"\"Entry point for launching an IPython kernel.\n"
     ]
    },
    {
     "data": {
      "text/plain": [
       "[5, 20]"
      ]
     },
     "execution_count": 15,
     "metadata": {},
     "output_type": "execute_result"
    }
   ],
   "source": [
    "selection = torch.flatten((mask_arr[0]).nonzero()).tolist()\n",
    "selection"
   ]
  },
  {
   "cell_type": "code",
   "execution_count": 16,
   "metadata": {},
   "outputs": [
    {
     "data": {
      "text/plain": [
       "{'input_ids': tensor([[  101, 11098,  8456, 10065, 27616,   103, 29289, 28548, 10410, 27431,\n",
       "          9865,   118, 27431, 14983, 29841,   597, 22301, 10559,  2727,  1543,\n",
       "           103, 25075,  6637, 26779, 12677, 17391,  1616,  1089, 13645, 27431,\n",
       "          8456,   102]]), 'token_type_ids': tensor([[0, 0, 0, 0, 0, 0, 0, 0, 0, 0, 0, 0, 0, 0, 0, 0, 0, 0, 0, 0, 0, 0, 0, 0,\n",
       "         0, 0, 0, 0, 0, 0, 0, 0]]), 'attention_mask': tensor([[1, 1, 1, 1, 1, 1, 1, 1, 1, 1, 1, 1, 1, 1, 1, 1, 1, 1, 1, 1, 1, 1, 1, 1,\n",
       "         1, 1, 1, 1, 1, 1, 1, 1]]), 'labels': tensor([[  101, 11098,  8456, 10065, 27616,  1955, 29289, 28548, 10410, 27431,\n",
       "          9865,   118, 27431, 14983, 29841,   597, 22301, 10559,  2727,  1543,\n",
       "           118, 25075,  6637, 26779, 12677, 17391,  1616,  1089, 13645, 27431,\n",
       "          8456,   102]])}"
      ]
     },
     "execution_count": 16,
     "metadata": {},
     "output_type": "execute_result"
    }
   ],
   "source": [
    "inputs.input_ids[0, selection] = 103\n",
    "inputs"
   ]
  }
 ],
 "metadata": {
  "kernelspec": {
   "display_name": "nlp",
   "language": "python",
   "name": "nlp"
  },
  "language_info": {
   "codemirror_mode": {
    "name": "ipython",
    "version": 3
   },
   "file_extension": ".py",
   "mimetype": "text/x-python",
   "name": "python",
   "nbconvert_exporter": "python",
   "pygments_lexer": "ipython3",
   "version": "3.7.9"
  }
 },
 "nbformat": 4,
 "nbformat_minor": 4
}
